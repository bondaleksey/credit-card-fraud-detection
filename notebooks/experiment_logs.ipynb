{
 "cells": [
  {
   "attachments": {},
   "cell_type": "markdown",
   "metadata": {},
   "source": [
    "# Некоторые заметки при выполнении проекта\n",
    "\n",
    "Для копирования файлов в личное s3 хранилище использовалась boto3. Инструкции к ней в файле `instructions_boto3_s3.ipynb`, а скрипты в `../scripts/s3/`.\n",
    "\n",
    "![alt s3 filesr](img/s3_folder.png \"S3 files\")\n",
    "\n",
    "Для копирования файлов был создан Data Proc кластер\n",
    "\n",
    "![alt cluster](img/dataproc_cluster.png \"Data Proc cluster\")\n",
    "\n",
    "Результат копирования (`instructions_DataProc.ipynb`) файлов в hdfs:\n",
    "\n",
    "![alt Files](img/hadoop_fs_ls.png \"hadoop fs ls\")"
   ]
  }
 ],
 "metadata": {
  "language_info": {
   "name": "python"
  },
  "orig_nbformat": 4
 },
 "nbformat": 4,
 "nbformat_minor": 2
}
