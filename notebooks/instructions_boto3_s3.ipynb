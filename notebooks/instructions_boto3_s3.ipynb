{
 "cells": [
  {
   "attachments": {},
   "cell_type": "markdown",
   "metadata": {},
   "source": [
    "# Инструкции по работе с S3 в яндекс\n",
    "\n",
    "## Задача настроить boto3 для работы с бакетами\n",
    "- [Создайте сервисный аккаунт](https://cloud.yandex.ru/docs/iam/operations/sa/create)\n",
    "- [Назначьте нужную роль сервисному аккаунту](https://cloud.yandex.ru/docs/iam/operations/sa/assign-role-for-sa). Подробнее о ролях см. в документации [Identity and Access Management](https://cloud.yandex.ru/docs/iam/concepts/access-control/roles).\n",
    "- [Создайте статический ключ доступа](https://cloud.yandex.ru/docs/iam/operations/sa/create-access-key)."
   ]
  },
  {
   "cell_type": "code",
   "execution_count": null,
   "metadata": {},
   "outputs": [],
   "source": [
    "# Создайте сервисный аккаунт с именем backet-worker-S3-boto3\n",
    "yc iam service-account create --name backet-worker-s3-boto3"
   ]
  },
  {
   "cell_type": "code",
   "execution_count": null,
   "metadata": {},
   "outputs": [],
   "source": [
    "# Получить идентификатор сервисного аккаунта по его имени\n",
    "yc iam service-account get backet-worker-s3-boto3 "
   ]
  },
  {
   "cell_type": "code",
   "execution_count": null,
   "metadata": {},
   "outputs": [],
   "source": [
    "# назначить сервисному аккаунту роль на ресурс, нужно выполнить команду:\n",
    "yc <service-name> <resource> add-access-binding <resource-name>|<resource-id> \\\n",
    "  --role <role-id> \\\n",
    "  --subject serviceAccount:<service-account-id>\n",
    "\n",
    "# storage.editor\n",
    "# пока проще выполнить через \"консоль управления\""
   ]
  },
  {
   "cell_type": "code",
   "execution_count": null,
   "metadata": {},
   "outputs": [],
   "source": [
    "# Создайте ключ доступа для сервисного аккаунта backet-worker-s3-boto3:\n",
    "yc iam access-key create --service-account-name backet-worker-s3-boto3 \n"
   ]
  },
  {
   "attachments": {},
   "cell_type": "markdown",
   "metadata": {},
   "source": [
    "After installation boto3 to create files aws you must write:\n",
    "`aws configure`"
   ]
  },
  {
   "attachments": {},
   "cell_type": "markdown",
   "metadata": {},
   "source": [
    "by `code ~/.aws/credetials` write:\n",
    "<pre><code>\n",
    "[default]\n",
    "  aws_access_key_id = <идентификатор_статического_ключа>\n",
    "  aws_secret_access_key = <секретный_ключ>\n",
    "</code></pre>"
   ]
  },
  {
   "attachments": {},
   "cell_type": "markdown",
   "metadata": {},
   "source": [
    "in `~/.aws/config` write strings:\n",
    "<pre><code>\n",
    "[default]\n",
    "region = ru-central1\n",
    "</code></pre>\n"
   ]
  },
  {
   "attachments": {},
   "cell_type": "markdown",
   "metadata": {},
   "source": [
    "Для доступа к Object Storage используйте эндпоинт https://storage.yandexcloud.net."
   ]
  },
  {
   "attachments": {},
   "cell_type": "markdown",
   "metadata": {},
   "source": []
  },
  {
   "cell_type": "code",
   "execution_count": 2,
   "metadata": {},
   "outputs": [
    {
     "ename": "ClientError",
     "evalue": "An error occurred (SignatureDoesNotMatch) when calling the ListObjects operation: The request signature we calculated does not match the signature you provided. Check your key and signing method.",
     "output_type": "error",
     "traceback": [
      "\u001b[1;31m---------------------------------------------------------------------------\u001b[0m",
      "\u001b[1;31mClientError\u001b[0m                               Traceback (most recent call last)",
      "Cell \u001b[1;32mIn[2], line 4\u001b[0m\n\u001b[0;32m      2\u001b[0m session \u001b[39m=\u001b[39m boto3\u001b[39m.\u001b[39msession\u001b[39m.\u001b[39mSession()\n\u001b[0;32m      3\u001b[0m s3 \u001b[39m=\u001b[39m session\u001b[39m.\u001b[39mclient(service_name\u001b[39m=\u001b[39m\u001b[39m\"\u001b[39m\u001b[39ms3\u001b[39m\u001b[39m\"\u001b[39m, endpoint_url\u001b[39m=\u001b[39m\u001b[39m\"\u001b[39m\u001b[39mhttps://storage.yandexcloud.net\u001b[39m\u001b[39m\"\u001b[39m)\n\u001b[1;32m----> 4\u001b[0m \u001b[39mfor\u001b[39;00m key \u001b[39min\u001b[39;00m s3\u001b[39m.\u001b[39;49mlist_objects(Bucket\u001b[39m=\u001b[39;49m\u001b[39m'\u001b[39;49m\u001b[39mbond-cfd\u001b[39;49m\u001b[39m'\u001b[39;49m)[\u001b[39m'\u001b[39m\u001b[39mContents\u001b[39m\u001b[39m'\u001b[39m]:\n\u001b[0;32m      5\u001b[0m     \u001b[39mprint\u001b[39m(key[\u001b[39m'\u001b[39m\u001b[39mKey\u001b[39m\u001b[39m'\u001b[39m])\n",
      "File \u001b[1;32mg:\\2022\\git_folder\\credit-card-fraud-detection\\venv\\lib\\site-packages\\botocore\\client.py:530\u001b[0m, in \u001b[0;36mClientCreator._create_api_method.<locals>._api_call\u001b[1;34m(self, *args, **kwargs)\u001b[0m\n\u001b[0;32m    526\u001b[0m     \u001b[39mraise\u001b[39;00m \u001b[39mTypeError\u001b[39;00m(\n\u001b[0;32m    527\u001b[0m         \u001b[39mf\u001b[39m\u001b[39m\"\u001b[39m\u001b[39m{\u001b[39;00mpy_operation_name\u001b[39m}\u001b[39;00m\u001b[39m() only accepts keyword arguments.\u001b[39m\u001b[39m\"\u001b[39m\n\u001b[0;32m    528\u001b[0m     )\n\u001b[0;32m    529\u001b[0m \u001b[39m# The \"self\" in this scope is referring to the BaseClient.\u001b[39;00m\n\u001b[1;32m--> 530\u001b[0m \u001b[39mreturn\u001b[39;00m \u001b[39mself\u001b[39;49m\u001b[39m.\u001b[39;49m_make_api_call(operation_name, kwargs)\n",
      "File \u001b[1;32mg:\\2022\\git_folder\\credit-card-fraud-detection\\venv\\lib\\site-packages\\botocore\\client.py:964\u001b[0m, in \u001b[0;36mBaseClient._make_api_call\u001b[1;34m(self, operation_name, api_params)\u001b[0m\n\u001b[0;32m    962\u001b[0m     error_code \u001b[39m=\u001b[39m parsed_response\u001b[39m.\u001b[39mget(\u001b[39m\"\u001b[39m\u001b[39mError\u001b[39m\u001b[39m\"\u001b[39m, {})\u001b[39m.\u001b[39mget(\u001b[39m\"\u001b[39m\u001b[39mCode\u001b[39m\u001b[39m\"\u001b[39m)\n\u001b[0;32m    963\u001b[0m     error_class \u001b[39m=\u001b[39m \u001b[39mself\u001b[39m\u001b[39m.\u001b[39mexceptions\u001b[39m.\u001b[39mfrom_code(error_code)\n\u001b[1;32m--> 964\u001b[0m     \u001b[39mraise\u001b[39;00m error_class(parsed_response, operation_name)\n\u001b[0;32m    965\u001b[0m \u001b[39melse\u001b[39;00m:\n\u001b[0;32m    966\u001b[0m     \u001b[39mreturn\u001b[39;00m parsed_response\n",
      "\u001b[1;31mClientError\u001b[0m: An error occurred (SignatureDoesNotMatch) when calling the ListObjects operation: The request signature we calculated does not match the signature you provided. Check your key and signing method."
     ]
    }
   ],
   "source": [
    "import boto3\n",
    "session = boto3.session.Session()\n",
    "s3 = session.client(service_name=\"s3\", endpoint_url=\"https://storage.yandexcloud.net\")\n",
    "s3.upload_file('this_script.py', 'bucket-name', 'py_script.py')\n",
    "for key in s3.list_objects(Bucket='bond-ccfd')['Contents']:\n",
    "    print(key['Key'])"
   ]
  },
  {
   "cell_type": "code",
   "execution_count": null,
   "metadata": {},
   "outputs": [],
   "source": []
  }
 ],
 "metadata": {
  "kernelspec": {
   "display_name": "venv",
   "language": "python",
   "name": "python3"
  },
  "language_info": {
   "codemirror_mode": {
    "name": "ipython",
    "version": 3
   },
   "file_extension": ".py",
   "mimetype": "text/x-python",
   "name": "python",
   "nbconvert_exporter": "python",
   "pygments_lexer": "ipython3",
   "version": "3.10.6"
  },
  "orig_nbformat": 4
 },
 "nbformat": 4,
 "nbformat_minor": 2
}
