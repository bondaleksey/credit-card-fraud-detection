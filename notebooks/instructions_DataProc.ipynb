{
 "cells": [
  {
   "attachments": {},
   "cell_type": "markdown",
   "metadata": {},
   "source": [
    "# Создание кластера Data Proc\n",
    "[Инструкция от яндекса по созданию кластера Data Proc](https://cloud.yandex.ru/docs/data-proc/operations/cluster-create)\n",
    "\n",
    "- В сеть включить [nat-шлюз](https://cloud.yandex.ru/docs/vpc/operations/create-nat-gateway)\n",
    "- настроить группу безопастности"
   ]
  },
  {
   "attachments": {},
   "cell_type": "markdown",
   "metadata": {},
   "source": [
    "# Пример описания групп безопасности. \n",
    "\n",
    "#### Для входящего трафика\n",
    "<pre><code>\n",
    "Описание input\n",
    "Диапазон портов - 0-65535\n",
    "Протокол - Any\n",
    "Назначение - Группа безопасности\n",
    "CIDR блоки - self\n",
    "\n",
    "Для ssh\n",
    "Диапазон портов - 22\n",
    "Протокол - TCP\n",
    "Назначение - CIDR\n",
    "CIDR блоки - 0.0.0.0/0\n",
    "\n",
    "Для https\n",
    "Диапазон портов - 443\n",
    "Протокол -TCP\n",
    "Назначение - CIDR\n",
    "CIDR блоки - 0.0.0.0/0\n",
    "\n",
    "Для sparkwebui\n",
    "Диапазон портов - 4040-4050\n",
    "Протокол - Any\n",
    "Назначение - CIDR\n",
    "CIDR блоки - 0.0.0.0/0\n",
    "\n",
    "Для jupyter\n",
    "Диапазон портов - 8888\n",
    "Протокол - Any\n",
    "Назначение - CIDR\n",
    "CIDR блоки - 0.0.0.0/0\n",
    "\n",
    "Для mlflow ui\n",
    "Диапазон портов - 8000\n",
    "Протокол - Any\n",
    "Назначение - CIDR\n",
    "CIDR блоки - 0.0.0.0/0\n",
    "</code></pre>\n"
   ]
  },
  {
   "attachments": {},
   "cell_type": "markdown",
   "metadata": {},
   "source": [
    "#### Для исходящего трафика\n",
    "<pre><code>\n",
    "Описание output\n",
    "Диапазон портов - 0-65535\n",
    "Протокол - Any\n",
    "Назначение - Группа безопасности\n",
    "CIDR блоки - self\n",
    "\n",
    "Для https\n",
    "Диапазон портов - 443\n",
    "Протокол -TCP\n",
    "Назначение - CIDR\n",
    "CIDR блоки - 0.0.0.0/0\n",
    "\n",
    "Для OUT\n",
    "Диапазон портов - 0-65535\n",
    "Протокол - Any\n",
    "Назначение - CIDR\n",
    "CIDR блоки - 0.0.0.0/0\n",
    "</code></pre>"
   ]
  },
  {
   "attachments": {},
   "cell_type": "markdown",
   "metadata": {},
   "source": [
    "# Копирование файлов\n",
    "[Пример кода](https://cloud.yandex.ru/docs/data-proc/tutorials/copy-files-from-object-storage) копирования из S3 в HDFS в публичном бакете `yc-mdb-examples` по пути `dataproc/example01/set01`:\n",
    "<pre><code>\n",
    "hadoop distcp \\\n",
    "    -D fs.s3a.bucket.dataproc-examples.endpoint=storage.yandexcloud.net \\\n",
    "    -D fs.s3a.bucket.dataproc-examples.access.key=AWS_ACCESS_KEY_ID  \\\n",
    "    -D fs.s3a.bucket.dataproc-examples.secret.key=AWS_SECRET_ACCESS_KEY \\\n",
    "    -update \\\n",
    "    -skipcrccheck \\\n",
    "    -numListstatusThreads 10 \\\n",
    "    s3a://yc-mdb-examples/dataproc/example01/set01 \\\n",
    "    hdfs://rc1b-dataproc-m-d31bs470ivkyrz60.mdb.yandexcloud.net/user/root/datasets/set01/\n",
    "</code></pre>"
   ]
  },
  {
   "attachments": {},
   "cell_type": "markdown",
   "metadata": {},
   "source": [
    "Для копирования файлов с S3 на HDFS, где HDFS хост: `rc1b-dataproc-m-ewho4p4xo6zgfqat` из s3a://bond-ccfd/fraud-data в `user/root/datasets/fraud-data/`\n",
    "\n",
    "<pre><code>\n",
    "hadoop distcp \\\n",
    "    -D fs.s3a.bucket.bond-ccfd.endpoint=storage.yandexcloud.net \\\n",
    "    -D fs.s3a.bucket.bond-ccfd.access.key=AWS_ACCESS_KEY_ID  \\\n",
    "    -D fs.s3a.bucket.bond-ccfd.secret.key=AWS_SECRET_ACCESS_KEY \\\n",
    "    -update \\\n",
    "    -skipcrccheck \\\n",
    "    -numListstatusThreads 10 \\\n",
    "    s3a://bond-ccfd/fraud-data \\\n",
    "    hdfs://rc1b-dataproc-m-ewho4p4xo6zgfqat.mdb.yandexcloud.net/user/root/datasets/fraud-data/\n",
    "</code></pre>"
   ]
  },
  {
   "attachments": {},
   "cell_type": "markdown",
   "metadata": {},
   "source": [
    "Одной строчкой\n",
    "\n",
    "`hadoop distcp -D fs.s3a.bucket.bond-ccfd.endpoint=storage.yandexcloud.net -D fs.s3a.bucket.bond-ccfd.access.key=AWS_ACCESS_KEY_ID -D fs.s3a.bucket.bond-ccfd.secret.key=AWS_SECRET_ACCESS_KEY -update -skipcrccheck -numListstatusThreads 10 s3a://bond-ccfd/fraud-data hdfs://rc1b-dataproc-m-ewho4p4xo6zgfqat.mdb.yandexcloud.net/user/root/datasets/fraud-data/`"
   ]
  },
  {
   "attachments": {},
   "cell_type": "markdown",
   "metadata": {},
   "source": [
    "Для просмотра наличия переданных файлов в HDFS введем команду\n",
    "<pre><code>\n",
    "hadoop fs -ls /user/root/datasets/fraud-data/\n",
    "</code></pre>"
   ]
  },
  {
   "attachments": {},
   "cell_type": "markdown",
   "metadata": {},
   "source": []
  }
 ],
 "metadata": {
  "language_info": {
   "name": "python"
  },
  "orig_nbformat": 4
 },
 "nbformat": 4,
 "nbformat_minor": 2
}
